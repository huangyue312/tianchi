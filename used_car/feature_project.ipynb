{
 "cells": [
  {
   "cell_type": "code",
   "execution_count": 18,
   "metadata": {
    "collapsed": true
   },
   "outputs": [
    {
     "name": "stdout",
     "output_type": "stream",
     "text": [
      "Index(['SaleID', 'name', 'regDate', 'model', 'brand', 'bodyType', 'fuelType',\n       'gearbox', 'power', 'kilometer', 'notRepairedDamage', 'regionCode',\n       'seller', 'offerType', 'creatDate', 'v_0', 'v_1', 'v_2', 'v_3', 'v_4',\n       'v_5', 'v_6', 'v_7', 'v_8', 'v_9', 'v_10', 'v_11', 'v_12', 'v_13',\n       'v_14'],\n      dtype='object')\nSaleID                 int64\nname                   int64\nregDate                int64\nmodel                float64\nbrand                  int64\nbodyType             float64\nfuelType             float64\ngearbox              float64\npower                  int64\nkilometer            float64\nnotRepairedDamage     object\nregionCode             int64\nseller                 int64\nofferType              int64\ncreatDate              int64\nv_0                  float64\nv_1                  float64\nv_2                  float64\nv_3                  float64\nv_4                  float64\nv_5                  float64\nv_6                  float64\nv_7                  float64\nv_8                  float64\nv_9                  float64\nv_10                 float64\nv_11                 float64\nv_12                 float64\nv_13                 float64\nv_14                 float64\ndtype: object\n"
     ]
    }
   ],
   "source": [
    "# -*- coding: utf-8 -*-\n",
    "# @Time    : 20-8-20\n",
    "# @Author  : huangyue\n",
    "# @FileName: feature_project.ipynb\n",
    "\n",
    "##将训练集和测试集一起读入做特征工程\n",
    "import  pandas as pd\n",
    "import  numpy as np\n",
    "train_path='/home/yue/Project/Datamining/tianchi/used_car/data/train_data_eda.csv'\n",
    "train=pd.read_csv(train_path) \n",
    "test_path='/home/yue/Project/Datamining/tianchi/used_car/data/used_car_testB_20200421.csv'\n",
    "test=pd.read_csv(test_path,sep=' ') \n",
    "data = pd.concat([train, test], ignore_index=True)\n"
   ]
  },
  {
   "cell_type": "code",
   "execution_count": null,
   "metadata": {
    "collapsed": true
   },
   "outputs": [],
   "source": [
    "print(test.columns)\n",
    "print(test.dtypes)\n"
   ]
  },
  {
   "cell_type": "code",
   "execution_count": 26,
   "metadata": {
    "collapsed": true
   },
   "outputs": [],
   "source": [
    "##缺失值和异常值处理\n",
    "data['notRepairedDamage']=data['notRepairedDamage'].\\\n",
    "    replace('-','-1').astype('float').astype('int')\n",
    "cat_features=['model','brand','bodyType','fuelType','gearbox','kilometer',\n",
    "             'notRepairedDamage']\n",
    "for fea in cat_features:\n",
    "    data[fea]=data[fea].fillna(data[fea].mode().iloc[0]).astype('int')"
   ]
  },
  {
   "cell_type": "code",
   "execution_count": 20,
   "metadata": {},
   "outputs": [],
   "source": [
    "###特征工程一时间\n",
    "#regDate在做时间转化时发现有20070009的数据，这里统一将代表月份的00改为01\n",
    "def f1(x):\n",
    "    if x[5]=='0':\n",
    "        newx=x[:4]+'1'+x[5:]\n",
    "    else:\n",
    "        newx=x\n",
    "    return int(newx)\n",
    "##时间类型特征转变、分离出年月日的duration\n",
    "data['used_days'] = (pd.to_datetime(data['creatDate'], format='%Y%m%d') - \n",
    "                        pd.to_datetime(data['regDate'].apply(lambda x:f1(str(x))), \n",
    "                            format='%Y%m%d')).dt.days\n",
    "data['used_months'] = round(data['used_days'] / 30, 3)\n",
    "data['used_years'] = round(data['used_days'] / 365, 3)\n",
    "#考虑二手车折旧对于时间来说可能是个指数折旧\n",
    "data['used_years_exp'] = data['used_years'].apply(np.expm1)"
   ]
  },
  {
   "cell_type": "code",
   "execution_count": 31,
   "metadata": {},
   "outputs": [
    {
     "name": "stdout",
     "output_type": "stream",
     "text": [
      "0 19312\n0 247\n[ 3  0  9 10  4  6  8  5  7 12 11 16 25 15 17 20  2 31 14 13 18 22 21  1\n 29 23 19 24 28 27 26 30]\n[ 3  4 12 11  2  1  5  7 14  0  8 13 20 16  9  6 17 18 10 15 21 24 22 23\n 19 25]\n"
     ]
    }
   ],
   "source": [
    "##特征工程二分桶和截尾\n",
    "print(data['power'].unique().min(),data['power'].unique().max())\n",
    "print(data['model'].unique().min(),data['model'].unique().max())\n",
    "##这里用0表示原来power为0,power取值0-30 因为power存在大于600的值，这里统一分到31里\n",
    "bin = [i*20 for i in range(31)]\n",
    "bin=[-1]+bin\n",
    "bin2 = [i*10 for i in range(31)]\n",
    "bin2=[-1]+bin2\n",
    "data['power_bin'] = pd.cut(data['power'], bin, labels=False)\n",
    "data['model_bin'] = pd.cut(data['model'], bin2, labels=False)\n",
    "\n",
    "data['power_bin']=data['power_bin'].fillna(31).astype('int')\n",
    "\n",
    "print(data['power_bin'].unique())\n",
    "print(data['model_bin'].unique())\n",
    "\n",
    "data['power'] = data['power'].map(lambda x: 600 if x>600 else x)\n",
    "data['fuelType'] = data['fuelType'].map(lambda x: 2 if x>2 else x)"
   ]
  },
  {
   "cell_type": "code",
   "execution_count": 32,
   "metadata": {},
   "outputs": [],
   "source": [
    "##特征工程三，对类别特征做交叉\n",
    "### 类别特征的二阶交叉\n",
    "from sklearn.preprocessing import PolynomialFeatures\n",
    "for f_pair in [\n",
    "    ['notRepairedDamage', 'power'], ['notRepairedDamage', 'kilometer'],\n",
    "    ['brand', 'power'],['brand', 'notRepairedDamage'],['power','kilometer'],\n",
    "    ['brand', 'regDate'],['power', 'regDate'],['kilometer','regDate']\n",
    "]:\n",
    "    \n",
    "    poly = PolynomialFeatures(degree=2)\n",
    "    poly.fit_transform(data[f_pair])\n",
    "print(data.shape)\n"
   ]
  },
  {
   "cell_type": "code",
   "execution_count": 33,
   "metadata": {},
   "outputs": [],
   "source": [
    "print(data.columns,data.shape)\n"
   ]
  },
  {
   "cell_type": "code",
   "execution_count": 36,
   "metadata": {},
   "outputs": [],
   "source": [
    "##删除无关特征,并存入本地，作为第一次训练集\n",
    "data.drop(columns=['Unnamed: 0','SaleID','seller','offerType'],inplace=True)\n",
    "\n",
    "data.iloc[:len(train)].to_csv(\"/home/yue/Project/Datamining/tianchi/used_car/data/train1.csv\")\n",
    "data.iloc[len(train):].to_csv(\"/home/yue/Project/Datamining/tianchi/used_car/data/test1.csv\")\n"
   ]
  },
  {
   "cell_type": "code",
   "execution_count": null,
   "metadata": {},
   "outputs": [],
   "source": [
    "##特征工程四，对类别特征做交叉\n",
    "\n"
   ]
  }
 ],
 "metadata": {
  "kernelspec": {
   "display_name": "Python 2",
   "language": "python",
   "name": "python2"
  },
  "language_info": {
   "codemirror_mode": {
    "name": "ipython",
    "version": 2
   },
   "file_extension": ".py",
   "mimetype": "text/x-python",
   "name": "python",
   "nbconvert_exporter": "python",
   "pygments_lexer": "ipython2",
   "version": "2.7.6"
  }
 },
 "nbformat": 4,
 "nbformat_minor": 0
}
